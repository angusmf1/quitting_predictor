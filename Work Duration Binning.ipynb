{
 "cells": [
  {
   "cell_type": "markdown",
   "id": "73ba8311",
   "metadata": {},
   "source": [
    "## Work Duration Binning"
   ]
  },
  {
   "cell_type": "code",
   "execution_count": 318,
   "id": "94b1f33e",
   "metadata": {},
   "outputs": [
    {
     "name": "stderr",
     "output_type": "stream",
     "text": [
      "/var/folders/74/37xhv12j1_b0bpxcvmn65x_h0000gn/T/ipykernel_48123/1758610947.py:6: DtypeWarning: Columns (61,62,63,64,65,66,67,68,69,70,71,72,73,74,75,76,77,78,79,80,81,82,83,84,85,86,87,88) have mixed types. Specify dtype option on import or set low_memory=False.\n",
      "  df = pd.read_csv('updated_quitting_predictor_data.csv')\n"
     ]
    }
   ],
   "source": [
    "import pandas as pd\n",
    "import numpy as np\n",
    "\n",
    "#df = pd.read_csv('new_combined_with_text_data.csv')\n",
    "\n",
    "df = pd.read_csv('updated_quitting_predictor_data.csv')\n",
    "\n",
    "df['time_duration_1'].fillna(0, inplace=True)\n",
    "df['time_duration_2'].fillna(0, inplace=True)\n",
    "df['time_duration_3'].fillna(0, inplace=True)\n",
    "df['time_duration_4'].fillna(0, inplace=True)\n",
    "df['time_duration_5'].fillna(0, inplace=True)\n"
   ]
  },
  {
   "cell_type": "code",
   "execution_count": null,
   "id": "3eb7ab99",
   "metadata": {},
   "outputs": [],
   "source": [
    "import matplotlib.pyplot as plt\n",
    "\n",
    "plt.hist(df['time_duration_2'],bins = 72, range = (0,72))\n",
    "plt.show()"
   ]
  },
  {
   "cell_type": "code",
   "execution_count": null,
   "id": "10f9b96e",
   "metadata": {},
   "outputs": [],
   "source": [
    "plt.hist(df['time_duration_3'],bins = 72, range = (0,72))\n",
    "plt.show()"
   ]
  },
  {
   "cell_type": "code",
   "execution_count": null,
   "id": "502e8467",
   "metadata": {},
   "outputs": [],
   "source": [
    "plt.hist(df['time_duration_4'],bins = 72, range = (0,72))\n",
    "plt.show()"
   ]
  },
  {
   "cell_type": "code",
   "execution_count": null,
   "id": "2158cea2",
   "metadata": {},
   "outputs": [],
   "source": [
    "plt.hist(df['time_duration_5'],bins = 72, range = (0,72))\n",
    "plt.show()"
   ]
  },
  {
   "cell_type": "code",
   "execution_count": null,
   "id": "1889754b",
   "metadata": {},
   "outputs": [],
   "source": [
    "plt.hist(df['time_duration_2'],bins = 72, range = (0,72),label='time duration 2')\n",
    "plt.hist(df['time_duration_3'],bins = 72, range = (0,72),label='time duration 3')\n",
    "plt.hist(df['time_duration_4'],bins = 72, range = (0,72),label='time duration 4')\n",
    "plt.hist(df['time_duration_5'],bins = 72, range = (0,72),label='time duration 5')\n",
    "plt.hist(df['time_duration_6'],bins = 72, range = (0,72),label='time duration 6')\n",
    "plt.hist(df['time_duration_7'],bins = 72, range = (0,72),label='time duration 7',color='violet')\n",
    "plt.xlabel('time duration (months)', fontsize=12, fontweight='normal')\n",
    "plt.ylabel('frequency', fontsize=12, fontweight='normal')\n",
    "plt.legend()\n",
    "plt.show()"
   ]
  },
  {
   "cell_type": "code",
   "execution_count": null,
   "id": "272d6622",
   "metadata": {},
   "outputs": [],
   "source": [
    "plt.hist(df['time_duration_2'],bins = 36, range = (0,36),label='time duration 2')\n",
    "plt.hist(df['time_duration_3'],bins = 36, range = (0,36),label='time duration 3')\n",
    "plt.hist(df['time_duration_4'],bins = 36, range = (0,36),label='time duration 4')\n",
    "plt.hist(df['time_duration_5'],bins = 36, range = (0,36),label='time duration 5')\n",
    "plt.hist(df['time_duration_6'],bins = 36, range = (0,36),label='time duration 6')\n",
    "plt.hist(df['time_duration_7'],bins = 36, range = (0,36),label='time duration 7', color='violet')\n",
    "plt.xlabel('time duration (months)', fontsize=12, fontweight='normal')\n",
    "plt.ylabel('frequency', fontsize=12, fontweight='normal')\n",
    "plt.legend()\n",
    "plt.show()"
   ]
  },
  {
   "cell_type": "code",
   "execution_count": 320,
   "id": "02849a25",
   "metadata": {},
   "outputs": [
    {
     "data": {
      "text/html": [
       "<div>\n",
       "<style scoped>\n",
       "    .dataframe tbody tr th:only-of-type {\n",
       "        vertical-align: middle;\n",
       "    }\n",
       "\n",
       "    .dataframe tbody tr th {\n",
       "        vertical-align: top;\n",
       "    }\n",
       "\n",
       "    .dataframe thead th {\n",
       "        text-align: right;\n",
       "    }\n",
       "</style>\n",
       "<table border=\"1\" class=\"dataframe\">\n",
       "  <thead>\n",
       "    <tr style=\"text-align: right;\">\n",
       "      <th></th>\n",
       "      <th>time_duration_2</th>\n",
       "      <th>bins</th>\n",
       "      <th>peak</th>\n",
       "    </tr>\n",
       "  </thead>\n",
       "  <tbody>\n",
       "    <tr>\n",
       "      <th>0</th>\n",
       "      <td>1.0</td>\n",
       "      <td>0</td>\n",
       "      <td>0</td>\n",
       "    </tr>\n",
       "    <tr>\n",
       "      <th>1</th>\n",
       "      <td>23.0</td>\n",
       "      <td>4</td>\n",
       "      <td>0</td>\n",
       "    </tr>\n",
       "    <tr>\n",
       "      <th>2</th>\n",
       "      <td>13.0</td>\n",
       "      <td>4</td>\n",
       "      <td>0</td>\n",
       "    </tr>\n",
       "    <tr>\n",
       "      <th>3</th>\n",
       "      <td>9.0</td>\n",
       "      <td>2</td>\n",
       "      <td>0</td>\n",
       "    </tr>\n",
       "    <tr>\n",
       "      <th>4</th>\n",
       "      <td>7.0</td>\n",
       "      <td>2</td>\n",
       "      <td>0</td>\n",
       "    </tr>\n",
       "    <tr>\n",
       "      <th>5</th>\n",
       "      <td>34.0</td>\n",
       "      <td>6</td>\n",
       "      <td>0</td>\n",
       "    </tr>\n",
       "    <tr>\n",
       "      <th>6</th>\n",
       "      <td>12.0</td>\n",
       "      <td>3</td>\n",
       "      <td>1</td>\n",
       "    </tr>\n",
       "    <tr>\n",
       "      <th>7</th>\n",
       "      <td>12.0</td>\n",
       "      <td>3</td>\n",
       "      <td>1</td>\n",
       "    </tr>\n",
       "    <tr>\n",
       "      <th>8</th>\n",
       "      <td>25.0</td>\n",
       "      <td>6</td>\n",
       "      <td>0</td>\n",
       "    </tr>\n",
       "    <tr>\n",
       "      <th>9</th>\n",
       "      <td>45.0</td>\n",
       "      <td>8</td>\n",
       "      <td>0</td>\n",
       "    </tr>\n",
       "    <tr>\n",
       "      <th>10</th>\n",
       "      <td>16.0</td>\n",
       "      <td>4</td>\n",
       "      <td>0</td>\n",
       "    </tr>\n",
       "    <tr>\n",
       "      <th>11</th>\n",
       "      <td>65.0</td>\n",
       "      <td>12</td>\n",
       "      <td>0</td>\n",
       "    </tr>\n",
       "    <tr>\n",
       "      <th>12</th>\n",
       "      <td>7.0</td>\n",
       "      <td>2</td>\n",
       "      <td>0</td>\n",
       "    </tr>\n",
       "    <tr>\n",
       "      <th>13</th>\n",
       "      <td>132.0</td>\n",
       "      <td>20</td>\n",
       "      <td>0</td>\n",
       "    </tr>\n",
       "    <tr>\n",
       "      <th>14</th>\n",
       "      <td>54.0</td>\n",
       "      <td>10</td>\n",
       "      <td>0</td>\n",
       "    </tr>\n",
       "    <tr>\n",
       "      <th>15</th>\n",
       "      <td>14.0</td>\n",
       "      <td>4</td>\n",
       "      <td>0</td>\n",
       "    </tr>\n",
       "    <tr>\n",
       "      <th>16</th>\n",
       "      <td>12.0</td>\n",
       "      <td>3</td>\n",
       "      <td>1</td>\n",
       "    </tr>\n",
       "    <tr>\n",
       "      <th>17</th>\n",
       "      <td>4.0</td>\n",
       "      <td>2</td>\n",
       "      <td>0</td>\n",
       "    </tr>\n",
       "    <tr>\n",
       "      <th>18</th>\n",
       "      <td>51.0</td>\n",
       "      <td>10</td>\n",
       "      <td>0</td>\n",
       "    </tr>\n",
       "    <tr>\n",
       "      <th>19</th>\n",
       "      <td>28.0</td>\n",
       "      <td>6</td>\n",
       "      <td>0</td>\n",
       "    </tr>\n",
       "  </tbody>\n",
       "</table>\n",
       "</div>"
      ],
      "text/plain": [
       "    time_duration_2  bins  peak\n",
       "0               1.0     0     0\n",
       "1              23.0     4     0\n",
       "2              13.0     4     0\n",
       "3               9.0     2     0\n",
       "4               7.0     2     0\n",
       "5              34.0     6     0\n",
       "6              12.0     3     1\n",
       "7              12.0     3     1\n",
       "8              25.0     6     0\n",
       "9              45.0     8     0\n",
       "10             16.0     4     0\n",
       "11             65.0    12     0\n",
       "12              7.0     2     0\n",
       "13            132.0    20     0\n",
       "14             54.0    10     0\n",
       "15             14.0     4     0\n",
       "16             12.0     3     1\n",
       "17              4.0     2     0\n",
       "18             51.0    10     0\n",
       "19             28.0     6     0"
      ]
     },
     "execution_count": 320,
     "metadata": {},
     "output_type": "execute_result"
    }
   ],
   "source": [
    "# List of peak values\n",
    "peak_values = [3.0, 12.0, 24.0, 36.0, 48.0, 60.0, 72.0, 84.0, 96.0, 108.0]\n",
    "\n",
    "# Function to check if value is in the 'peak_values' list\n",
    "def is_peak(value):\n",
    "    return int(value in peak_values)\n",
    "\n",
    "# Create the 'peaks' column using the apply method\n",
    "df['peak'] = df['time_duration_2'].apply(is_peak)\n",
    "\n",
    "\n",
    "def between(value):\n",
    "    if value<3:\n",
    "        return(0)\n",
    "    elif value == 3:\n",
    "        return(1)\n",
    "    elif 3<value<12:\n",
    "        return(2)\n",
    "    elif value == 12:\n",
    "        return(3)\n",
    "    elif 12<value<24:\n",
    "        return(4)\n",
    "    elif value == 24:\n",
    "        return(5)\n",
    "    elif 24<value<36:\n",
    "        return(6)\n",
    "    elif value == 36:\n",
    "        return(7)\n",
    "    elif 36<value<48:\n",
    "        return(8)\n",
    "    elif value == 48:\n",
    "        return(9)\n",
    "    elif 48<value<60:\n",
    "        return(10)\n",
    "    elif value == 60:\n",
    "        return(11)\n",
    "    elif 60<value<72:\n",
    "        return(12)\n",
    "    elif value == 72:\n",
    "        return(13)\n",
    "    elif 72<value<84:\n",
    "        return(14)\n",
    "    elif value == 84:\n",
    "        return(15)\n",
    "    elif 84<value<96:\n",
    "        return(16)\n",
    "    elif value == 96:\n",
    "        return(17)\n",
    "    elif 96<value<108:\n",
    "        return(18)\n",
    "    elif value == 108:\n",
    "        return(19)\n",
    "    elif 108<value:\n",
    "        return(20)\n",
    "    \n",
    "df['bins'] = df['time_duration_2'].apply(between)\n",
    "\n",
    "\n",
    "# Display the updated dataframe\n",
    "df[['time_duration_2','bins','peak']][:20]"
   ]
  },
  {
   "cell_type": "code",
   "execution_count": 322,
   "id": "6ef08e72",
   "metadata": {},
   "outputs": [],
   "source": [
    "mask_quitter = (df['Quitter']==1)\n",
    "mask_nonquitter = (df['Quitter']==0)\n",
    "\n",
    "quitter = df[mask_quitter]\n",
    "nonquitter = df[mask_nonquitter]"
   ]
  },
  {
   "cell_type": "code",
   "execution_count": 323,
   "id": "46b3e6f2",
   "metadata": {},
   "outputs": [
    {
     "name": "stdout",
     "output_type": "stream",
     "text": [
      "Quitter\n",
      "% peak:  0.13912133891213388\n",
      "% not peak:  0.8608786610878661\n"
     ]
    }
   ],
   "source": [
    "q_peak = np.sum(quitter['peak']==1)\n",
    "q_not_peak = np.sum(quitter['peak']==0)\n",
    "q_tot = len(quitter)\n",
    "\n",
    "print('Quitter')\n",
    "print('% peak: ',q_peak/q_tot)\n",
    "print('% not peak: ',q_not_peak/q_tot)"
   ]
  },
  {
   "cell_type": "code",
   "execution_count": 324,
   "id": "c85b8cec",
   "metadata": {},
   "outputs": [
    {
     "name": "stdout",
     "output_type": "stream",
     "text": [
      "NonQuitter\n",
      "% peak:  0.13583052073288332\n",
      "% not peak:  0.8641694792671167\n"
     ]
    }
   ],
   "source": [
    "nq_peak = np.sum(nonquitter['peak']==1)\n",
    "nq_tot = len(nonquitter)\n",
    "nq_not_peak = np.sum(nonquitter['peak']==0)\n",
    "\n",
    "print('NonQuitter')\n",
    "print('% peak: ',nq_peak/nq_tot)\n",
    "print('% not peak: ',nq_not_peak/nq_tot)"
   ]
  },
  {
   "cell_type": "code",
   "execution_count": 325,
   "id": "787c0ac4",
   "metadata": {},
   "outputs": [],
   "source": [
    "q_vc = quitter['bins'].value_counts().sort_index()/len(quitter)\n",
    "nq_vc = nonquitter['bins'].value_counts().sort_index()/len(nonquitter)"
   ]
  },
  {
   "cell_type": "code",
   "execution_count": 326,
   "id": "c012a31b",
   "metadata": {},
   "outputs": [
    {
     "data": {
      "image/png": "[encoded data removed]",
      "text/plain": [
       "<Figure size 1000x600 with 1 Axes>"
      ]
     },
     "metadata": {},
     "output_type": "display_data"
    }
   ],
   "source": [
    "bar_width = 0.35\n",
    "x = range(len(quitter_bins_counts))\n",
    "\n",
    "# Plot the two bar charts side by side\n",
    "plt.figure(figsize=(10, 6))\n",
    "plt.bar(x, q_vc, width=bar_width, label='Quitter')\n",
    "plt.bar([i + bar_width for i in x], nq_vc, width=bar_width, label='NonQuitter')\n",
    "plt.xlabel('time_duration_2 Bins')\n",
    "plt.ylabel('Percentage (%)')\n",
    "plt.title('Value Counts of Quitters and NonQuitters')\n",
    "plt.xticks(range(0,21))  \n",
    "plt.grid(axis='y') \n",
    "plt.legend()\n",
    "plt.show()"
   ]
  }
 ],
 "metadata": {
  "kernelspec": {
   "display_name": "Python 3 (ipykernel)",
   "language": "python",
   "name": "python3"
  },
  "language_info": {
   "codemirror_mode": {
    "name": "ipython",
    "version": 3
   },
   "file_extension": ".py",
   "mimetype": "text/x-python",
   "name": "python",
   "nbconvert_exporter": "python",
   "pygments_lexer": "ipython3",
   "version": "3.9.13"
  }
 },
 "nbformat": 4,
 "nbformat_minor": 5
}
