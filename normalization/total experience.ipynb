{
 "cells": [
  {
   "cell_type": "code",
   "execution_count": 444,
   "id": "dae39878",
   "metadata": {},
   "outputs": [
    {
     "name": "stderr",
     "output_type": "stream",
     "text": [
      "/var/folders/74/37xhv12j1_b0bpxcvmn65x_h0000gn/T/ipykernel_97963/2302526472.py:6: DtypeWarning: Columns (73,74,75,76,77,78,79,80,81,82,83,84,85,86,87,88,89,90,91,92,93,94,95,96,97,98,99,100) have mixed types. Specify dtype option on import or set low_memory=False.\n",
      "  q_df = pd.read_csv('Quitters_with_seniority.csv')\n",
      "/var/folders/74/37xhv12j1_b0bpxcvmn65x_h0000gn/T/ipykernel_97963/2302526472.py:7: DtypeWarning: Columns (73,74,75,76,77,78,79,80,81,82,83,84,85,86,87,88,89,90,91,92,93,94,95,96,97,98,99,100) have mixed types. Specify dtype option on import or set low_memory=False.\n",
      "  nq_df = pd.read_csv('NonQuitters_with_seniority.csv')\n"
     ]
    }
   ],
   "source": [
    "import pandas as pd\n",
    "import re\n",
    "import datetime\n",
    "\n",
    "\n",
    "q_df = pd.read_csv('Quitters_with_seniority.csv')\n",
    "nq_df = pd.read_csv('NonQuitters_with_seniority.csv')\n",
    "\n",
    "\n",
    "columns_to_drop = ['Unnamed: 0.1', 'Unnamed: 0']\n",
    "q_df = q_df.drop(columns_to_drop, axis=1)\n",
    "nq_df = nq_df.drop(columns_to_drop, axis=1)"
   ]
  },
  {
   "cell_type": "code",
   "execution_count": 447,
   "id": "74bb0f47",
   "metadata": {},
   "outputs": [],
   "source": [
    "# Calculate total working experience in months\n",
    "q_df['total_experience'] = q_df[['time_duration_1', 'time_duration_2', 'time_duration_3', 'time_duration_4',\n",
    "                             'time_duration_5', 'time_duration_6', 'time_duration_7', 'time_duration_8',\n",
    "                             'time_duration_9', 'time_duration_10']].sum(axis=1)\n",
    "\n",
    "nq_df['total_experience'] = nq_df[['time_duration_1', 'time_duration_2', 'time_duration_3', 'time_duration_4',\n",
    "                             'time_duration_5', 'time_duration_6', 'time_duration_7', 'time_duration_8',\n",
    "                             'time_duration_9', 'time_duration_10']].sum(axis=1)\n"
   ]
  },
  {
   "cell_type": "code",
   "execution_count": 448,
   "id": "095d0b5f",
   "metadata": {},
   "outputs": [],
   "source": [
    "def normalize_education_years(df):\n",
    "    \"\"\"Normalizes education years into YYYY-YYYY format.\n",
    "\n",
    "    Args:\n",
    "      df: The DataFrame containing the ed_time_duration columns.\n",
    "\n",
    "    Returns:\n",
    "      A new DataFrame with the normalized education years.\n",
    "    \"\"\"\n",
    "\n",
    "    #pattern = r'\\b(Jan|Feb|Mar|Apr|May|Jun|Jul|Aug|Sep|Oct|Nov|Dec)\\b'\n",
    "    pattern = r'[a-zA-Z]'\n",
    "    \n",
    "    # Create a function to normalize a single education year.\n",
    "    def normalize_education_year(year):\n",
    "        if year == 'Present':\n",
    "            return str(datetime.datetime.now().year)\n",
    "        elif year == '':\n",
    "            return None\n",
    "        elif (re.search(pattern, str(year))):\n",
    "            return None\n",
    "        else:\n",
    "            return year\n",
    "\n",
    "  # Loop through the rows in the DataFrame.\n",
    "    for index, row in df.iterrows():\n",
    "        # Normalize each education year.\n",
    "        for col in ['ed_time_duration_1', 'ed_time_duration_2', 'ed_time_duration_3']:\n",
    "            df.loc[index, col] = normalize_education_year(row[col])\n",
    "\n",
    "    return df\n",
    "\n",
    "q_df = normalize_education_years(q_df)\n",
    "nq_df = normalize_education_years(nq_df)\n"
   ]
  },
  {
   "cell_type": "code",
   "execution_count": 434,
   "id": "064b9d33",
   "metadata": {},
   "outputs": [],
   "source": [
    "#q_df[['ed_time_duration_1','ed_time_duration_2','ed_time_duration_3','total_experience']][:10]\n",
    "#q_df['ed_time_duration_1'][1][-4:]"
   ]
  },
  {
   "cell_type": "code",
   "execution_count": 449,
   "id": "3bdcd3a8",
   "metadata": {},
   "outputs": [],
   "source": [
    "def check_exp(q_df):\n",
    "\n",
    "    # Extract graduation years\n",
    "    q_df['grad_year_1'] = q_df['ed_time_duration_1'].str.split(' - ').str[1].astype(float)\n",
    "    q_df['grad_year_2'] = q_df['ed_time_duration_2'].str.split(' - ').str[1].astype(float)\n",
    "    q_df['grad_year_3'] = q_df['ed_time_duration_3'].str.split(' - ').str[1].astype(float)\n",
    "\n",
    "    # Find the earliest valid graduation year\n",
    "    valid_grad_years = q_df[['grad_year_1', 'grad_year_2', 'grad_year_3']].stack().dropna()\n",
    "    if valid_grad_years.empty:\n",
    "        # Handle case when all graduation years are missing or invalid\n",
    "        q_df['exp check'] = 0\n",
    "    else:\n",
    "        earliest_grad_year = valid_grad_years.min()\n",
    "\n",
    "        # Calculate number of months from earliest graduation year until now\n",
    "        current_year = datetime.datetime.now().year\n",
    "        current_month = datetime.datetime.now().month\n",
    "        months_since_graduation = (current_year - earliest_grad_year) * 12 + current_month\n",
    "\n",
    "        # Compare with total_experience\n",
    "        q_df['exp_check'] = q_df['total_experience'].apply(lambda x: 1 if x > months_since_graduation else 0)\n",
    "\n",
    "        return q_df\n"
   ]
  },
  {
   "cell_type": "code",
   "execution_count": 450,
   "id": "82c45f6d",
   "metadata": {},
   "outputs": [],
   "source": [
    "q_df = check_exp(q_df)\n",
    "nq_df = check_exp(nq_df)"
   ]
  },
  {
   "cell_type": "code",
   "execution_count": 461,
   "id": "4efb65af",
   "metadata": {},
   "outputs": [
    {
     "name": "stdout",
     "output_type": "stream",
     "text": [
      "# of Quitters failed check:  56\n",
      "# of NonQuitters failed check:  25\n"
     ]
    }
   ],
   "source": [
    "print('# of Quitters failed check: ', sum(q_df['exp_check']==1))\n",
    "print('# of NonQuitters failed check: ', sum(nq_df['exp_check']==1))"
   ]
  },
  {
   "cell_type": "code",
   "execution_count": 462,
   "id": "94b08ad7",
   "metadata": {},
   "outputs": [],
   "source": [
    "#q_df[['ed_time_duration_1','ed_time_duration_2','ed_time_duration_3','total_experience','exp_check']][:55]"
   ]
  },
  {
   "cell_type": "code",
   "execution_count": 465,
   "id": "8f2da156",
   "metadata": {},
   "outputs": [
    {
     "name": "stdout",
     "output_type": "stream",
     "text": [
      "profile_url\n",
      "First Name\n",
      "Middle Name\n",
      "Surname\n",
      "Linkedin_url\n",
      "connections\n",
      "Summary\n",
      "Skills\n",
      "education level\n",
      "title_1\n",
      "company_1\n",
      "time_duration_1\n",
      "Job_Description_1\n",
      "title_2\n",
      "company_2\n",
      "time_duration_2\n",
      "Job_Description_2\n",
      "title_3\n",
      "company_3\n",
      "time_duration_3\n",
      "Job_Description_3\n",
      "title_4\n",
      "company_4\n",
      "time_duration_4\n",
      "Job_Description_4\n",
      "title_5\n",
      "company_5\n",
      "time_duration_5\n",
      "Job_Description_5\n",
      "title_6\n",
      "company_6\n",
      "time_duration_6\n",
      "Job_Description_6\n",
      "title_7\n",
      "company_7\n",
      "time_duration_7\n",
      "Job_Description_7\n",
      "title_8\n",
      "company_8\n",
      "time_duration_8\n",
      "Job_Description_8\n",
      "title_9\n",
      "company_9\n",
      "time_duration_9\n",
      "Job_Description_9\n",
      "title_10\n",
      "company_10\n",
      "time_duration_10\n",
      "Job_Description_10\n",
      "school_name_1\n",
      "ed_time_duration_1\n",
      "degree_name_1\n",
      "education_fos_1\n",
      "school_name_2\n",
      "ed_time_duration_2\n",
      "degree_name_2\n",
      "education_fos_2\n",
      "school_name_3\n",
      "ed_time_duration_3\n",
      "degree_name_3\n",
      "education_fos_3\n",
      "Unnamed: 1\n",
      "Unnamed: 2\n",
      "Unnamed: 3\n",
      "Unnamed: 4\n",
      "Unnamed: 5\n",
      "Unnamed: 6\n",
      "Unnamed: 7\n",
      "Unnamed: 8\n",
      "Unnamed: 9\n",
      "Unnamed: 10\n",
      "Country\n",
      "State\n",
      "City\n",
      "job 1 location\n",
      "job 2 location\n",
      "job 3 location\n",
      "job 4 location\n",
      "job 5 location\n",
      "job 6 location\n",
      "job 7 location\n",
      "job 8 location\n",
      "job 9 location\n",
      "job 10 location\n",
      "school_name_4\n",
      "ed_time_duration_4\n",
      "degree_name_4\n",
      "edu 4 activities\n",
      "education_fos_4\n",
      "school_name_5\n",
      "ed_time_duration_5\n",
      "degree_name_5\n",
      "edu 5 activities\n",
      "education_fos_5\n",
      "school_name_6\n",
      "ed_time_duration_6\n",
      "degree_name_6\n",
      "edu 6 activities\n",
      "education_fos_6\n",
      "Seniority\n",
      "Intern\n",
      "Entry\n",
      "Junior\n",
      "Middle\n",
      "Senior\n",
      "NaN\n",
      "total_experience\n",
      "exp_check\n"
     ]
    }
   ],
   "source": [
    "for i in q_df.columns:\n",
    "    print(i)"
   ]
  },
  {
   "cell_type": "code",
   "execution_count": 454,
   "id": "d954612d",
   "metadata": {},
   "outputs": [],
   "source": [
    "q_df = q_df.drop(['grad_year_1', 'grad_year_2', 'grad_year_3'], axis=1)\n",
    "nq_df = nq_df.drop(['grad_year_1', 'grad_year_2', 'grad_year_3'], axis=1)\n"
   ]
  },
  {
   "cell_type": "code",
   "execution_count": 466,
   "id": "df4c5866",
   "metadata": {},
   "outputs": [
    {
     "name": "stdout",
     "output_type": "stream",
     "text": [
      "(19996, 108)\n",
      "(173355, 108)\n"
     ]
    }
   ],
   "source": [
    "print(q_df.shape)\n",
    "print(nq_df.shape)"
   ]
  },
  {
   "cell_type": "code",
   "execution_count": 467,
   "id": "33dd0f89",
   "metadata": {},
   "outputs": [],
   "source": [
    "#write out files with 'total_experience and 'exp_check'\n",
    "\n",
    "quitters_out = 'Quitters_with_total_exp.csv'\n",
    "q_df.to_csv(quitters_out, index=False)\n",
    "\n",
    "nonquitters_out = 'NonQuitters_with_total_exp.csv'\n",
    "nq_df.to_csv(nonquitters_out, index=False)"
   ]
  },
  {
   "cell_type": "markdown",
   "id": "d22196ce",
   "metadata": {},
   "source": [
    "## Work Duration Binning"
   ]
  },
  {
   "cell_type": "code",
   "execution_count": 2,
   "id": "d4ab150b",
   "metadata": {},
   "outputs": [
    {
     "name": "stderr",
     "output_type": "stream",
     "text": [
      "/var/folders/74/37xhv12j1_b0bpxcvmn65x_h0000gn/T/ipykernel_48123/128456750.py:4: DtypeWarning: Columns (61,62,63,64,65,66,67,68,69,70,71,72,73,74,75,76,77,78,79,80,81,82,83,84,85,86,87,88) have mixed types. Specify dtype option on import or set low_memory=False.\n",
      "  df = pd.read_csv('new_combined_with_text_data.csv')\n"
     ]
    }
   ],
   "source": [
    "import pandas as pd\n",
    "import numpy as np\n",
    "\n",
    "df = pd.read_csv('new_combined_with_text_data.csv')"
   ]
  },
  {
   "cell_type": "code",
   "execution_count": 13,
   "id": "16c31dae",
   "metadata": {},
   "outputs": [
    {
     "data": {
      "image/png": "[encoded data removed]",
      "text/plain": [
       "<Figure size 640x480 with 1 Axes>"
      ]
     },
     "metadata": {},
     "output_type": "display_data"
    }
   ],
   "source": [
    "import matplotlib.pyplot as plt\n",
    "\n",
    "plt.hist(df['time_duration_2'],bins = 72, range = (0,72))\n",
    "plt.show()"
   ]
  },
  {
   "cell_type": "code",
   "execution_count": 64,
   "id": "a95b78ef",
   "metadata": {},
   "outputs": [
    {
     "data": {
      "image/png": "[encoded data removed]",
      "text/plain": [
       "<Figure size 640x480 with 1 Axes>"
      ]
     },
     "metadata": {},
     "output_type": "display_data"
    }
   ],
   "source": [
    "# Define the number of bins and range for the histogram\n",
    "#num_bins = int(np.sqrt(len(data['time_duration_2'])))\n",
    "#bin_width = 3.5 * np.std(data['time_duration_2']) / (len(data['time_duration_2'])**(1/3))\n",
    "#num_bins = int((bin_range[1] - bin_range[0]) / bin_width)\n",
    "\n",
    "\n",
    "num_bins = 36\n",
    "bin_range = (0, 72)\n",
    "data= df\n",
    "\n",
    "hist, bins, _ = plt.hist(data['time_duration_2'], bins=num_bins, range=bin_range, edgecolor='black')\n",
    "\n",
    "# Find the peaks and valleys in the histogram\n",
    "peaks = [bins[i] for i in range(1, len(hist) - 1) if hist[i - 1] < hist[i] > hist[i + 1] and \n",
    "        hist[i - 2] < hist[i] > hist[i + 2]]\n",
    "valleys = [bins[i] for i in range(1, len(hist) - 1) if hist[i - 1] > hist[i] < hist[i + 1] and \n",
    "          hist[i - 2] > hist[i] < hist[i + 2]]\n",
    "\n",
    "cut_points = np.unique(np.concatenate((peaks, valleys)))\n",
    "cut_points.sort()\n",
    "\n",
    "# Use pandas.cut to assign bins based on the cut points\n",
    "data['bins'] = pd.cut(data['time_duration_2'], bins=cut_points, labels=False, include_lowest=True)\n",
    "\n",
    "# Create a new figure and adjust the size\n",
    "#plt.figure(figsize=(8, 6))\n",
    "\n",
    "# Plot the histogram with the bins, and color the bars differently\n",
    "plt.hist(data['time_duration_2'], bins=cut_points, color='lightgreen', edgecolor='black', alpha=0.7)\n",
    "\n",
    "# Add grid lines for better readability\n",
    "plt.grid(True)\n",
    "\n",
    "# Label the axes and add a title to the histogram\n",
    "plt.xlabel('Time Duration')\n",
    "plt.ylabel('Frequency')\n",
    "plt.title('Histogram with Custom Bins (Peaks and Valleys)')\n",
    "\n",
    "# Display the histogram plot\n",
    "plt.show()\n"
   ]
  },
  {
   "cell_type": "code",
   "execution_count": 65,
   "id": "e2858b3c",
   "metadata": {},
   "outputs": [
    {
     "data": {
      "text/html": [
       "<div>\n",
       "<style scoped>\n",
       "    .dataframe tbody tr th:only-of-type {\n",
       "        vertical-align: middle;\n",
       "    }\n",
       "\n",
       "    .dataframe tbody tr th {\n",
       "        vertical-align: top;\n",
       "    }\n",
       "\n",
       "    .dataframe thead th {\n",
       "        text-align: right;\n",
       "    }\n",
       "</style>\n",
       "<table border=\"1\" class=\"dataframe\">\n",
       "  <thead>\n",
       "    <tr style=\"text-align: right;\">\n",
       "      <th></th>\n",
       "      <th>time_duration_2</th>\n",
       "      <th>bins</th>\n",
       "    </tr>\n",
       "  </thead>\n",
       "  <tbody>\n",
       "    <tr>\n",
       "      <th>0</th>\n",
       "      <td>1.0</td>\n",
       "      <td>NaN</td>\n",
       "    </tr>\n",
       "    <tr>\n",
       "      <th>1</th>\n",
       "      <td>23.0</td>\n",
       "      <td>2.0</td>\n",
       "    </tr>\n",
       "    <tr>\n",
       "      <th>2</th>\n",
       "      <td>13.0</td>\n",
       "      <td>2.0</td>\n",
       "    </tr>\n",
       "    <tr>\n",
       "      <th>3</th>\n",
       "      <td>9.0</td>\n",
       "      <td>0.0</td>\n",
       "    </tr>\n",
       "    <tr>\n",
       "      <th>4</th>\n",
       "      <td>7.0</td>\n",
       "      <td>0.0</td>\n",
       "    </tr>\n",
       "    <tr>\n",
       "      <th>5</th>\n",
       "      <td>34.0</td>\n",
       "      <td>3.0</td>\n",
       "    </tr>\n",
       "    <tr>\n",
       "      <th>6</th>\n",
       "      <td>12.0</td>\n",
       "      <td>1.0</td>\n",
       "    </tr>\n",
       "    <tr>\n",
       "      <th>7</th>\n",
       "      <td>12.0</td>\n",
       "      <td>1.0</td>\n",
       "    </tr>\n",
       "    <tr>\n",
       "      <th>8</th>\n",
       "      <td>25.0</td>\n",
       "      <td>3.0</td>\n",
       "    </tr>\n",
       "    <tr>\n",
       "      <th>9</th>\n",
       "      <td>45.0</td>\n",
       "      <td>4.0</td>\n",
       "    </tr>\n",
       "    <tr>\n",
       "      <th>10</th>\n",
       "      <td>16.0</td>\n",
       "      <td>2.0</td>\n",
       "    </tr>\n",
       "    <tr>\n",
       "      <th>11</th>\n",
       "      <td>65.0</td>\n",
       "      <td>6.0</td>\n",
       "    </tr>\n",
       "    <tr>\n",
       "      <th>12</th>\n",
       "      <td>7.0</td>\n",
       "      <td>0.0</td>\n",
       "    </tr>\n",
       "    <tr>\n",
       "      <th>13</th>\n",
       "      <td>132.0</td>\n",
       "      <td>NaN</td>\n",
       "    </tr>\n",
       "    <tr>\n",
       "      <th>14</th>\n",
       "      <td>54.0</td>\n",
       "      <td>5.0</td>\n",
       "    </tr>\n",
       "    <tr>\n",
       "      <th>15</th>\n",
       "      <td>14.0</td>\n",
       "      <td>2.0</td>\n",
       "    </tr>\n",
       "    <tr>\n",
       "      <th>16</th>\n",
       "      <td>12.0</td>\n",
       "      <td>1.0</td>\n",
       "    </tr>\n",
       "    <tr>\n",
       "      <th>17</th>\n",
       "      <td>4.0</td>\n",
       "      <td>0.0</td>\n",
       "    </tr>\n",
       "    <tr>\n",
       "      <th>18</th>\n",
       "      <td>51.0</td>\n",
       "      <td>5.0</td>\n",
       "    </tr>\n",
       "    <tr>\n",
       "      <th>19</th>\n",
       "      <td>28.0</td>\n",
       "      <td>3.0</td>\n",
       "    </tr>\n",
       "  </tbody>\n",
       "</table>\n",
       "</div>"
      ],
      "text/plain": [
       "    time_duration_2  bins\n",
       "0               1.0   NaN\n",
       "1              23.0   2.0\n",
       "2              13.0   2.0\n",
       "3               9.0   0.0\n",
       "4               7.0   0.0\n",
       "5              34.0   3.0\n",
       "6              12.0   1.0\n",
       "7              12.0   1.0\n",
       "8              25.0   3.0\n",
       "9              45.0   4.0\n",
       "10             16.0   2.0\n",
       "11             65.0   6.0\n",
       "12              7.0   0.0\n",
       "13            132.0   NaN\n",
       "14             54.0   5.0\n",
       "15             14.0   2.0\n",
       "16             12.0   1.0\n",
       "17              4.0   0.0\n",
       "18             51.0   5.0\n",
       "19             28.0   3.0"
      ]
     },
     "execution_count": 65,
     "metadata": {},
     "output_type": "execute_result"
    }
   ],
   "source": [
    "df[['time_duration_2','bins']][:20]"
   ]
  }
 ],
 "metadata": {
  "kernelspec": {
   "display_name": "Python 3 (ipykernel)",
   "language": "python",
   "name": "python3"
  },
  "language_info": {
   "codemirror_mode": {
    "name": "ipython",
    "version": 3
   },
   "file_extension": ".py",
   "mimetype": "text/x-python",
   "name": "python",
   "nbconvert_exporter": "python",
   "pygments_lexer": "ipython3",
   "version": "3.9.13"
  }
 },
 "nbformat": 4,
 "nbformat_minor": 5
}
